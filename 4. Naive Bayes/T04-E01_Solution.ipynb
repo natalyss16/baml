{
 "cells": [
  {
   "cell_type": "markdown",
   "metadata": {},
   "source": [
    "# Cookie factory"
   ]
  },
  {
   "cell_type": "markdown",
   "metadata": {},
   "source": [
    "You are the manager of a company which produces cookies and you want to introduce a new product. Your R\\&D department has proposed and developed the following two alternatives:\n",
    "\n",
    "1. Unicorn cookies (UC)\n",
    "2. Vanilla-chip cookies (VC).\n",
    "\n",
    "As part of your market research, you are interested in predicting whether certain customers are likely to buy one of the new products. For that, you have already collected data from a large number of test persons.\n",
    "In particular, you asked them to fill out a query with the following questions:\n",
    "\n",
    "1. *What do you think is the most fascinating: Rainbows, Black holes or Cats?* (variable $preferences$)\n",
    "2. *How much money do you spend on cookies per month?* (variable $money$)\n",
    "3. *Which of our cookies would you buy?* (variable $product$)  \n",
    "   *Note*: The variable $product$ can also take on the value \"No product\" (NP).\n",
    "\n",
    "You can find the data in *cookie-factory.csv*."
   ]
  },
  {
   "cell_type": "markdown",
   "metadata": {},
   "source": [
    "## Imports and data"
   ]
  },
  {
   "cell_type": "code",
   "execution_count": null,
   "metadata": {},
   "outputs": [],
   "source": [
    "import numpy as np\n",
    "import pandas as pd\n",
    "\n",
    "import matplotlib.pyplot as plt\n",
    "\n",
    "import scipy.stats as dists"
   ]
  },
  {
   "cell_type": "code",
   "execution_count": null,
   "metadata": {},
   "outputs": [],
   "source": [
    "data = pd.read_csv(\"cookie-factory.csv\")\n",
    "data.head()"
   ]
  },
  {
   "cell_type": "markdown",
   "metadata": {},
   "source": [
    "## Data visualization\n",
    "\n",
    "Nothing to do here..."
   ]
  },
  {
   "cell_type": "code",
   "execution_count": null,
   "metadata": {},
   "outputs": [],
   "source": [
    "pd.set_option(\"future.no_silent_downcasting\", True)\n",
    "\n",
    "fig, axs = plt.subplots(1, 3, figsize=(20, 6))\n",
    "\n",
    "for i, preference in enumerate(data[\"preferences\"].unique()):\n",
    "    x = data.loc[data[\"preferences\"] == preference, \"product\"].replace(\n",
    "        [\"No product\", \"Unicorn\", \"Vanilla\"], [-1, 0, 1]\n",
    "    )\n",
    "    labels, counts = np.unique(x, return_counts=True)\n",
    "    axs[0].bar(\n",
    "            labels + 0.2 * (i - 1), counts, alpha=0.5, label=preference, width=0.15, align=\"center\"\n",
    "        )\n",
    "axs[0].set_xticks([-1, 0, 1])\n",
    "axs[0].set_xticklabels([\"No product\", \"Unicorn\", \"Vanilla\"])\n",
    "axs[0].legend()\n",
    "axs[0].set_title(\"Preferences\")\n",
    "\n",
    "axs[1].violinplot([data.loc[data[\"product\"] == \"No product\", \"money\"],\n",
    "\n",
    "                   data.loc[data[\"product\"] == \"Unicorn\", \"money\"],\n",
    "                   data.loc[data[\"product\"] == \"Vanilla\", \"money\"]])\n",
    "axs[1].set_xticks([1, 2, 3])\n",
    "axs[1].set_xticklabels([\"No product\", \"Unicorn\", \"Vanilla\"])\n",
    "axs[1].set_title(\"Money\");\n",
    "\n",
    "axs[2].violinplot([data.loc[data[\"product\"] == \"No product\", \"age\"],\n",
    "\n",
    "                   data.loc[data[\"product\"] == \"Unicorn\", \"age\"],\n",
    "                   data.loc[data[\"product\"] == \"Vanilla\", \"age\"]])\n",
    "axs[2].set_xticks([1, 2, 3])\n",
    "axs[2].set_xticklabels([\"No product\", \"Unicorn\", \"Vanilla\"])\n",
    "axs[2].set_title(\"Age\");"
   ]
  },
  {
   "cell_type": "markdown",
   "metadata": {},
   "source": [
    "## a)\n",
    "\n",
    "For each of the questions 1-3, decide\n",
    "- whether the answers are continuous or discrete outcomes,\n",
    "- which range the outcomes could have\n",
    "- to which scale of measurement (nominal, ordinal, interval, ratio) the outcomes belong to."
   ]
  },
  {
   "cell_type": "markdown",
   "metadata": {},
   "source": [
    "**Solution**\n",
    "\n",
    "*Note*: Some of the attributes are subject to discussion and might differ.\n",
    "\n",
    "| Variable      | Cont / Disc   | (Hypothetical) Range  | \n",
    "| --------      | -----------   | -----                 |\n",
    "| $money$         | continuous    | $[0, \\infty)$         |\n",
    "| $preferences$  | discrete      | $\\{\"rainbows\", \"black\\, holes\", \"cats\"\\}$ |\n",
    "| $product$       | discrete      | $\\{\"UC\", \"VC\", \"NP\"\\}$   |"
   ]
  },
  {
   "cell_type": "markdown",
   "metadata": {},
   "source": [
    "## b)\n",
    "\n",
    "To infer which products new customers are likely to buy, you set up a probabilistic model.\n",
    "You assume that the answers to questions 1 - 3 are conditionally independent (Naive Bayes) given $product$ and model the dependencies as follows:\n",
    "$$\n",
    "f(preferences, money, product) = \\\\\n",
    "\t\t\\mathbb{P}(preferences ~\\vert~ product) \\cdot f_{money}(money ~\\vert~ product) \\cdot \\mathbb{P}(product)\n",
    "$$\n",
    "\n",
    "Estimate the parameters of your categorical prior by using maximum likelihood:\n",
    "$$\n",
    "\\mathbb{P}(product = UC) = p_{UC} \\qquad \\mathbb{P}(product = VC) = p_{VC} \\qquad \\mathbb{P}(product = NP) = p_{NP}\n",
    "$$\n",
    "\n",
    "*Hint*: The maximum likelihood estimate of the parameters for categorically distributed variables is simply the fraction of samples from a category."
   ]
  },
  {
   "cell_type": "markdown",
   "metadata": {},
   "source": [
    "**Solution**"
   ]
  },
  {
   "cell_type": "code",
   "execution_count": null,
   "metadata": {},
   "outputs": [],
   "source": [
    "p_product = data[\"product\"].value_counts(normalize=True)\n",
    "p_product"
   ]
  },
  {
   "cell_type": "markdown",
   "metadata": {},
   "source": [
    "## c)\n",
    "\n",
    "Based on your observations in a), you decide to model the likelihoods as follows:\n",
    "\n",
    "1. $preferences$ follows a Categorical distribution where the parameters depend on the product the customers would buy.\n",
    "\n",
    "2. $money$ follows an exponential distribution where the parameter $\\lambda_{product}$ depends on the product the customers would buy ($\\eta_{product} = \\eta_{UC}$, $\\eta_{product} = \\eta_{VC}$ or $\\eta_{product} = \\eta_{NP}$):\n",
    "    $$\n",
    "        f_{money}(m \\vert product) = \\begin{cases}\n",
    "            \\eta_{product} \\cdot e^{-\\eta_{product} \\cdot m} & m \\geq 0 \\\\\n",
    "            0 & \\text{else}\n",
    "        \\end{cases}\n",
    "    $$\n",
    "\n",
    "\n",
    "Intuitively, your model describes the profile ($preferences$, $money$) of a customer if you already know which product they would buy ($product$).\n",
    "        \n",
    "Using the data, derive maximum likelihood estimates for all parameters.\n",
    "\n",
    "*Hint*: The maximum likelihood estimate of the parameters for exponentially distributed variables is the inverse of their sample mean: $\\bar{x}^{-1}$.  \n",
    "*Hint*: The maximum likelihood estimate of the parameters for categorically distributed variables is simply the fraction of samples from a category."
   ]
  },
  {
   "cell_type": "markdown",
   "metadata": {},
   "source": [
    "**Solution**"
   ]
  },
  {
   "cell_type": "markdown",
   "metadata": {},
   "source": [
    "Preferences"
   ]
  },
  {
   "cell_type": "code",
   "execution_count": null,
   "metadata": {},
   "outputs": [],
   "source": [
    "pi_UC = data.loc[data[\"product\"] == \"Unicorn\", \"preferences\"].value_counts(normalize=True)\n",
    "pi_VC = data.loc[data[\"product\"] == \"Vanilla\", \"preferences\"].value_counts(normalize=True)\n",
    "pi_NP = data.loc[data[\"product\"] == \"No product\", \"preferences\"].value_counts(normalize=True)\n",
    "pi_NP /= pi_NP.sum()\n",
    "\n",
    "print(\"pi_UC:\\n-----\\n\", pi_UC, \"\\n\")\n",
    "print(\"pi_VC:\\n-----\\n\", pi_VC, \"\\n\")\n",
    "print(\"pi_NP:\\n-----\\n\", pi_NP)\n"
   ]
  },
  {
   "cell_type": "markdown",
   "metadata": {},
   "source": [
    "Money"
   ]
  },
  {
   "cell_type": "code",
   "execution_count": null,
   "metadata": {},
   "outputs": [],
   "source": [
    "eta_UC = 1 / data.loc[data[\"product\"] == \"Unicorn\", \"money\"].mean()\n",
    "eta_VC = 1 / data.loc[data[\"product\"] == \"Vanilla\", \"money\"].mean()\n",
    "eta_NP = 1 / data.loc[data[\"product\"] == \"No product\", \"money\"].mean()\n",
    "\n",
    "print(f\"eta_UC: {eta_UC}\")\n",
    "print(f\"eta_VC: {eta_VC}\")\n",
    "print(f\"eta_NP: {eta_NP}\")\n"
   ]
  },
  {
   "cell_type": "markdown",
   "metadata": {},
   "source": [
    "## d) + e)\n",
    "\n",
    "You now have access to a joint density over your data:\n",
    "$$\n",
    "f(preferences, money, product) = \\\\\n",
    "    \\mathbb{P}(preferences ~\\vert~ product) \\cdot f_{money}(money ~\\vert~ product) \\cdot \\mathbb{P}(product)\n",
    "$$\n",
    "\t\n",
    "With the fitted model, predict the (posterior) probability\n",
    "$$\n",
    "\t\\mathbb{P}(product ~\\vert~ preferences, money)\n",
    "$$\n",
    "that the customers below buy a unicorn cookie, a vanilla-chip cookie or no cookie at all:\n",
    "\n",
    "| Customer  | $preferences$  | $money$   |\n",
    "| --------- | ------------- | ---------:|\n",
    "| Anna      | Cats          | 53.10 €   |\n",
    "| Ben       | Rainbows      | 2.30 €    |\n",
    "| Caroline  | Black holes   | 10.25 €   |\n",
    "| ???       | Rainbows      | ??        |"
   ]
  },
  {
   "cell_type": "markdown",
   "metadata": {},
   "source": [
    "Helpful distributions:\n",
    "- [Exponential](https://docs.scipy.org/doc/scipy/reference/generated/scipy.stats.expon.html#scipy.stats.expon)"
   ]
  },
  {
   "cell_type": "markdown",
   "metadata": {},
   "source": [
    "**Solution**"
   ]
  },
  {
   "cell_type": "markdown",
   "metadata": {},
   "source": [
    "### Anna"
   ]
  },
  {
   "cell_type": "code",
   "execution_count": null,
   "metadata": {},
   "outputs": [],
   "source": [
    "money = 53.10\n",
    "prefs = \"Cats\"\n",
    "\n",
    "# No product\n",
    "p_NP = (\n",
    "    dists.expon.pdf(money, scale=1/eta_NP) \n",
    "    * pi_NP[prefs] \n",
    "    * p_product[\"No product\"]\n",
    ")\n",
    "\n",
    "# Unicorn cookie\n",
    "p_UC = (\n",
    "    dists.expon.pdf(money, scale=1/eta_UC) \n",
    "    * pi_UC[prefs] \n",
    "    * p_product[\"Unicorn\"]\n",
    ")\n",
    "\n",
    "# Vanilla chip cookie\n",
    "p_VC = (\n",
    "    dists.expon.pdf(money, scale=1/eta_VC) \n",
    "    * pi_VC[prefs] \n",
    "    * p_product[\"Vanilla\"]\n",
    ")\n",
    "\n",
    "# Normalize\n",
    "Z = p_NP + p_UC + p_VC\n",
    "p_NP /= Z\n",
    "p_UC /= Z\n",
    "p_VC /= Z\n",
    "\n",
    "print(f\"NP: {p_NP:.4f}\")\n",
    "print(f\"UC: {p_UC:.4f}\")\n",
    "print(f\"VC: {p_VC:.4f}\")"
   ]
  },
  {
   "cell_type": "markdown",
   "metadata": {},
   "source": [
    "### Ben"
   ]
  },
  {
   "cell_type": "code",
   "execution_count": null,
   "metadata": {},
   "outputs": [],
   "source": [
    "money = 2.30\n",
    "prefs = \"Rainbows\"\n",
    "\n",
    "# No product\n",
    "p_NP = (\n",
    "    dists.expon.pdf(money, scale=1/eta_NP) \n",
    "    * pi_NP[prefs] \n",
    "    * p_product[\"No product\"]\n",
    ")\n",
    "\n",
    "# Unicorn cookie\n",
    "p_UC = (\n",
    "    dists.expon.pdf(money, scale=1/eta_UC) \n",
    "    * pi_UC[prefs] \n",
    "    * p_product[\"Unicorn\"]\n",
    ")\n",
    "\n",
    "# Vanilla chip cookie\n",
    "p_VC = (\n",
    "    dists.expon.pdf(money, scale=1/eta_VC) \n",
    "    * pi_VC[prefs] \n",
    "    * p_product[\"Vanilla\"]\n",
    ")\n",
    "\n",
    "# Normalize\n",
    "Z = p_NP + p_UC + p_VC\n",
    "p_NP /= Z\n",
    "p_UC /= Z\n",
    "p_VC /= Z\n",
    "\n",
    "print(f\"NP: {p_NP:.4f}\")\n",
    "print(f\"UC: {p_UC:.4f}\")\n",
    "print(f\"VC: {p_VC:.4f}\")"
   ]
  },
  {
   "cell_type": "markdown",
   "metadata": {},
   "source": [
    "### Caroline"
   ]
  },
  {
   "cell_type": "code",
   "execution_count": null,
   "metadata": {},
   "outputs": [],
   "source": [
    "money = 10.25\n",
    "prefs = \"Black holes\"\n",
    "\n",
    "# No product\n",
    "p_NP = (\n",
    "    dists.expon.pdf(money, scale=1/eta_NP) \n",
    "    * pi_NP[prefs] \n",
    "    * p_product[\"No product\"]\n",
    ")\n",
    "\n",
    "# Unicorn cookie\n",
    "p_UC = (\n",
    "    dists.expon.pdf(money, scale=1/eta_UC) \n",
    "    * pi_UC[prefs] \n",
    "    * p_product[\"Unicorn\"]\n",
    ")\n",
    "\n",
    "# Vanilla chip cookie\n",
    "p_VC = (\n",
    "    dists.expon.pdf(money, scale=1/eta_VC) \n",
    "    * pi_VC[prefs] \n",
    "    * p_product[\"Vanilla\"]\n",
    ")\n",
    "\n",
    "# Normalize\n",
    "Z = p_NP + p_UC + p_VC\n",
    "p_NP /= Z\n",
    "p_UC /= Z\n",
    "p_VC /= Z\n",
    "\n",
    "print(f\"NP: {p_NP:.4f}\")\n",
    "print(f\"UC: {p_UC:.4f}\")\n",
    "print(f\"VC: {p_VC:.4f}\")"
   ]
  },
  {
   "cell_type": "markdown",
   "metadata": {},
   "source": [
    "### Unknown customer"
   ]
  },
  {
   "cell_type": "code",
   "execution_count": null,
   "metadata": {},
   "outputs": [],
   "source": [
    "# No product\n",
    "p_NP = pi_NP[\"Rainbows\"] * p_product[\"No product\"]\n",
    "\n",
    "# Unicorn cookie\n",
    "p_UC = pi_UC[\"Rainbows\"] * p_product[\"Unicorn\"]\n",
    "\n",
    "# Vanilla chip cookie\n",
    "p_VC = pi_VC[\"Rainbows\"] * p_product[\"Vanilla\"]\n",
    "\n",
    "# Normalize\n",
    "Z = p_NP + p_UC + p_VC\n",
    "p_NP /= Z\n",
    "p_UC /= Z\n",
    "p_VC /= Z\n",
    "\n",
    "print(f\"NP: {p_NP:.4f}\")\n",
    "print(f\"UC: {p_UC:.4f}\")\n",
    "print(f\"VC: {p_VC:.4f}\")"
   ]
  }
 ],
 "metadata": {
  "kernelspec": {
   "display_name": "baml-venv",
   "language": "python",
   "name": "python3"
  },
  "language_info": {
   "codemirror_mode": {
    "name": "ipython",
    "version": 3
   },
   "file_extension": ".py",
   "mimetype": "text/x-python",
   "name": "python",
   "nbconvert_exporter": "python",
   "pygments_lexer": "ipython3",
   "version": "3.12.5"
  }
 },
 "nbformat": 4,
 "nbformat_minor": 2
}
